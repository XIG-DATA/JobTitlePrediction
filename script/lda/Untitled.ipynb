{
 "cells": [
  {
   "cell_type": "code",
   "execution_count": 103,
   "metadata": {
    "collapsed": true
   },
   "outputs": [],
   "source": [
    "import jieba, os, json, codecs\n",
    "import pandas as pd\n",
    "from gensim import corpora, models, similarities, matutils\n",
    "from sklearn.preprocessing  import LabelEncoder"
   ]
  },
  {
   "cell_type": "code",
   "execution_count": 31,
   "metadata": {
    "collapsed": false
   },
   "outputs": [],
   "source": [
    "# walk = os.walk('./baike_topic')\n",
    "# for root, dirs, files in walk:\n",
    "#     for name in files:\n",
    "#         f = open(os.path.join(root, name), 'r')\n",
    "#         raw = f.read()\n",
    "#         word_list = list(jieba.cut(raw, cut_all = False))\n",
    "#         train_set.append(word_list)"
   ]
  },
  {
   "cell_type": "code",
   "execution_count": 72,
   "metadata": {
    "collapsed": false
   },
   "outputs": [],
   "source": [
    "def load_data():\n",
    "    train_list = []\n",
    "    for line in open('../../data/train_clean.json', 'r'):\n",
    "        train_list.append(json.loads(line))\n",
    "    train = pd.DataFrame(train_list)\n",
    "    \n",
    "    #train_work = train[names[-1]]\n",
    "    test_list = []\n",
    "    for line in open('../../data/test_clean.json', 'r'):\n",
    "        test_list.append(json.loads(line))\n",
    "    test = pd.DataFrame(test_list)\n",
    "    le = LabelEncoder()\n",
    "    train['gender'] = le.fit_transform(train['gender'])\n",
    "    names =  train.columns\n",
    "    le = LabelEncoder()\n",
    "    test['gender'] = le.fit_transform(test['gender'])\n",
    "    del train['_id']\n",
    "    del test['_id']\n",
    "    train = train.fillna(0)\n",
    "    test = test.fillna(0)\n",
    "    #test['age'] = test['age'].apply(lambda x : int(x.replace(u'岁','').encode('ascii')))\n",
    "    return train, test\n",
    "\n",
    "def data_transform():\n",
    "    train, test = load_data()\n",
    "    train_set = []\n",
    "    #print train['major'].apply(lambda x : type(x))\n",
    "    train['major_cut'] = train['major'].apply(lambda x : ['none'] if isinstance( x, int ) else list(jieba.cut(x, cut_all = True)))\n",
    "    return train['major_cut']\n"
   ]
  },
  {
   "cell_type": "code",
   "execution_count": 113,
   "metadata": {
    "collapsed": true
   },
   "outputs": [],
   "source": [
    "train,test = load_data()"
   ]
  },
  {
   "cell_type": "code",
   "execution_count": 117,
   "metadata": {
    "collapsed": false
   },
   "outputs": [
    {
     "data": {
      "text/plain": [
       "0.36787142857142857"
      ]
     },
     "execution_count": 117,
     "metadata": {},
     "output_type": "execute_result"
    }
   ],
   "source": [
    "name=  train.columns[-1]\n",
    "size_set = train[name].apply(lambda x : [x[i]['size'] for i in range(len(x))])\n",
    "sum([ 1 if x[0]== x[1] else 0 for x in size_set])/1.0/len(size_set)"
   ]
  },
  {
   "cell_type": "code",
   "execution_count": 73,
   "metadata": {
    "collapsed": false
   },
   "outputs": [],
   "source": [
    "train_set = data_transform()"
   ]
  },
  {
   "cell_type": "code",
   "execution_count": 121,
   "metadata": {
    "collapsed": false
   },
   "outputs": [
    {
     "data": {
      "text/plain": [
       "0.9071571428571429"
      ]
     },
     "execution_count": 121,
     "metadata": {},
     "output_type": "execute_result"
    }
   ],
   "source": [
    "sum([ 1 if abs(x[0]-x[1]) <=3 else 0 for x in size_set])/1.0/len(size_set)"
   ]
  },
  {
   "cell_type": "code",
   "execution_count": 74,
   "metadata": {
    "collapsed": false
   },
   "outputs": [
    {
     "data": {
      "text/plain": [
       "0                                           [电子, 电子商务, 商务]\n",
       "1                          [计算, 计算机, 计算机科学, 算机, 科学, 与, 技术]\n",
       "2                  [计算, 计算机, 计算机信息, 算机, 机信息, 信息, 信息管理, 管理]\n",
       "3                                                   [none]\n",
       "4                            [计算, 计算机, 计算机软件, 算机, 机软件, 软件]\n",
       "5                                          [信息, 与, 计算, 科学]\n",
       "6                                          [信息, 与, 计算, 科学]\n",
       "7                                           [软件, 软件工程, 工程]\n",
       "8                                 [电子, 电子信息, 信息, 信息工程, 工程]\n",
       "9                          [计算, 计算机, 计算机科学, 算机, 科学, 与, 技术]\n",
       "10                         [计算, 计算机, 计算机科学, 算机, 科学, 与, 技术]\n",
       "11                                                  [none]\n",
       "12                                                  [none]\n",
       "13                         [机械, 机械设计, 设计, 制造, 及其, 自动, 自动化]\n",
       "14                                [电子, 电子信息, 信息, 信息工程, 工程]\n",
       "15                                                [大气, 科学]\n",
       "16                                          [通信, 通信工程, 工程]\n",
       "17                                          [电子, 电子商务, 商务]\n",
       "18                         [计算, 计算机, 计算机科学, 算机, 科学, 与, 技术]\n",
       "19                                         [测控, 技术, 与, 仪器]\n",
       "20                         [计算, 计算机, 计算机科学, 算机, 科学, 与, 技术]\n",
       "21                          [计算, 计算机, 计算机网, 计算机网络, 算机, 网络]\n",
       "22                         [计算, 计算机, 计算机科学, 算机, 科学, 与, 技术]\n",
       "23                                          [电子, 电子商务, 商务]\n",
       "24                                          [软件, 软件工程, 工程]\n",
       "25       [电子, 电子科, 科学, 与, 技术, , , 光电, 电工, 工程, 与, 光通, 光通...\n",
       "26                           [计算, 计算机, 计算机软件, 算机, 机软件, 软件]\n",
       "27                            [工程, 工程机械, 机械, 控制, 控制技术, 技术]\n",
       "28                                          [国际, 国际金融, 金融]\n",
       "29                                        [汽车, 服务, 务工, 工程]\n",
       "                               ...                        \n",
       "69970                                       [市场, 市场营销, 营销]\n",
       "69971                                                 [普高]\n",
       "69972                                [模具, 模具设计, 设计, 与, 制造]\n",
       "69973                                         [贸易, 易经, 经济]\n",
       "69974                             [人力, 人力资源, 资源, 资源管理, 管理]\n",
       "69975                           [机械, 机械制造, 制造, 与, 自动, 自动化]\n",
       "69976                                               [none]\n",
       "69977                                                 [普高]\n",
       "69978                                               [none]\n",
       "69979                                               [none]\n",
       "69980                                        [会计, 会计学, 计学]\n",
       "69981                                                 [会计]\n",
       "69982                                                 [会计]\n",
       "69983                                   [工商, 工商企业, 企业, 管理]\n",
       "69984                                   [工商, 工商企业, 企业, 管理]\n",
       "69985                                               [none]\n",
       "69986                      [机械, 机械设计, 设计, 制造, 及其, 自动, 自动化]\n",
       "69987                                    [国际, 政治, 政治学, 治学]\n",
       "69988                                                 [会计]\n",
       "69989                                [金属, 金属材料, 材料, 与, 工程]\n",
       "69990                                       [市场, 市场营销, 营销]\n",
       "69991                                       [软件, 软件测试, 测试]\n",
       "69992                                               [none]\n",
       "69993                                        [经济, 经济学, 济学]\n",
       "69994                                                 [会计]\n",
       "69995                                               [none]\n",
       "69996                                                 [药学]\n",
       "69997                                        [会计, 会计学, 计学]\n",
       "69998                      [计算, 计算机, 计算机技术, 算机, 技术, 与, 应用]\n",
       "69999                                                 [英语]\n",
       "Name: major_cut, dtype: object"
      ]
     },
     "execution_count": 74,
     "metadata": {},
     "output_type": "execute_result"
    }
   ],
   "source": [
    "train_set"
   ]
  },
  {
   "cell_type": "code",
   "execution_count": 75,
   "metadata": {
    "collapsed": true
   },
   "outputs": [],
   "source": [
    "dic = corpora.Dictionary(train_set)"
   ]
  },
  {
   "cell_type": "code",
   "execution_count": 76,
   "metadata": {
    "collapsed": false
   },
   "outputs": [],
   "source": [
    "corpus = [dic.doc2bow(text) for text in train_set]"
   ]
  },
  {
   "cell_type": "code",
   "execution_count": 77,
   "metadata": {
    "collapsed": true
   },
   "outputs": [],
   "source": [
    "tfidf = models.TfidfModel(corpus)"
   ]
  },
  {
   "cell_type": "code",
   "execution_count": 78,
   "metadata": {
    "collapsed": true
   },
   "outputs": [],
   "source": [
    "corpus_tfidf = tfidf[corpus]"
   ]
  },
  {
   "cell_type": "code",
   "execution_count": 105,
   "metadata": {
    "collapsed": false
   },
   "outputs": [],
   "source": [
    "lda = models.LdaModel(corpus_tfidf, id2word = dic, iterations=50, num_topics = 50)\n",
    "corpus_lda = lda[corpus_tfidf]"
   ]
  },
  {
   "cell_type": "code",
   "execution_count": 106,
   "metadata": {
    "collapsed": false
   },
   "outputs": [
    {
     "name": "stdout",
     "output_type": "stream",
     "text": [
      "0.105*理学 + 0.103*心理 + 0.100*心理学 + 0.098*成型 + 0.085*及 + 0.066*车辆 + 0.052*用心 + 0.047*工程 + 0.042*机械工程 + 0.040*运动\n",
      "0.269*专业 + 0.172*文秘 + 0.150*酒店 + 0.071*社会 + 0.045*社会工作 + 0.045*工作 + 0.034*管理 + 0.026*计算机专业 + 0.009*西班牙 + 0.009*西班牙语\n",
      "0.186*网络 + 0.176*网络工程 + 0.129*药学 + 0.075*工程 + 0.061*投资 + 0.047*中药 + 0.037*中药学 + 0.035*媒体 + 0.027*数字 + 0.026*学生\n",
      "0.088*数学 + 0.083*公共事业 + 0.082*共事 + 0.082*事业 + 0.082*公共 + 0.042*医学 + 0.040*化工 + 0.033*朝鲜 + 0.033*朝鲜语 + 0.028*应用\n",
      "0.300* + 0.039*税务 + 0.038*农林 + 0.031*方向 + 0.029*社会学 + 0.029*学前教育 + 0.029*学前 + 0.028*教育 + 0.023*社会 + 0.020*经济\n",
      "0.352*会计 + 0.317*会计学 + 0.309*计学 + 0.004*高中 + 0.002*航运 + 0.001*外科 + 0.001*业务 + 0.001*业务管理 + 0.001*国际航运 + 0.001*航运业\n",
      "0.465*企业 + 0.154*工商企业 + 0.149*管理 + 0.077*工商 + 0.021*国际金融 + 0.006*会 + 0.004*供电 + 0.003*企业财务 + 0.003*金融法 + 0.003*现\n",
      "0.378*旅游 + 0.131*管理 + 0.075*无 + 0.069*汽车 + 0.053*维修 + 0.030*共管 + 0.024*车检 + 0.023*会展 + 0.022*公共 + 0.022*与\n",
      "0.381*自动 + 0.379*自动化 + 0.029*电气 + 0.022*与 + 0.014*安装 + 0.013*电子 + 0.013*Business + 0.011*工程 + 0.006*安装工 + 0.005*computing\n",
      "0.135*电算 + 0.134*电算化 + 0.100*模具 + 0.089*模具设计 + 0.069*会计 + 0.056*制造 + 0.049*设计 + 0.039*与 + 0.034*连锁 + 0.031*经营\n",
      "0.157*生物 + 0.081*技术 + 0.077*电子技术 + 0.060*用电 + 0.059*财务会计 + 0.056*动物 + 0.047*生物科学 + 0.047*应用 + 0.044*电子 + 0.042*医学\n",
      "0.243*通信 + 0.222*通信工程 + 0.099*工程 + 0.062*广播 + 0.053*电视 + 0.053*广播电视 + 0.030*规划 + 0.027*电视新闻 + 0.022*新闻 + 0.021*理论\n",
      "0.116*计算机网络 + 0.116*计算机网 + 0.097*网络 + 0.065*经营 + 0.055*计算机 + 0.055*算机 + 0.054*计算 + 0.046*房地产 + 0.046*房地 + 0.046*地产\n",
      "0.140*易经 + 0.079*造价 + 0.078*工程造价 + 0.077*护理 + 0.077*护理学 + 0.077*园艺 + 0.071*动力工程 + 0.071*热能 + 0.071*动力 + 0.056*理学\n",
      "0.156*机械 + 0.154*机械设计 + 0.147*制造 + 0.142*及其 + 0.132*自动化 + 0.131*自动 + 0.126*设计 + 0.001*与 + 0.001*运转 + 0.000*制造机\n",
      "0.204*及 + 0.083*服务 + 0.079*设备 + 0.072*机械制造 + 0.054*安全 + 0.042*信息安全 + 0.041*农业 + 0.031*机械 + 0.027*工艺 + 0.026*航空\n",
      "0.163*计算 + 0.154*算机 + 0.154*计算机 + 0.129*计算机科学 + 0.107*科学 + 0.095*技术 + 0.078*与 + 0.042*应用 + 0.029*理科 + 0.015*管理科学\n",
      "0.861*英语 + 0.027*传播 + 0.026*传播学 + 0.011*外贸 + 0.010*经贸 + 0.007*外贸英语 + 0.006*高级 + 0.005*预防 + 0.004*翻译 + 0.003*商贸\n",
      "0.177*信息科学 + 0.160*信息 + 0.143*科学 + 0.133*电子信息 + 0.125*技术 + 0.114*电子 + 0.087*与 + 0.014*国民 + 0.014*国民经济 + 0.006*经济\n",
      "0.191*信息工程 + 0.138*工程 + 0.136*电子 + 0.120*信息 + 0.116*电子信息 + 0.086*环境 + 0.038*环境工程 + 0.022*力学 + 0.021*工程力学 + 0.013*基础\n",
      "0.199*法学 + 0.159*物流 + 0.151*流管 + 0.073*管理 + 0.063*信息 + 0.056*系统 + 0.056*信息系统 + 0.047*信息管理 + 0.038*新闻 + 0.038*新闻学\n",
      "0.225*广告 + 0.194*广告学 + 0.118*国际贸易 + 0.059*药剂 + 0.058*药剂学 + 0.058*信息技术 + 0.041*微电子 + 0.037*电子学 + 0.036*微电子学 + 0.024*产品\n",
      "0.166*食品 + 0.150*食品科学 + 0.149*建筑 + 0.085*建筑学 + 0.080*工程 + 0.077*科学 + 0.073*与 + 0.036*货运 + 0.030*报关 + 0.028*材料科学\n",
      "0.086*学工 + 0.086*化学工程 + 0.085*工艺 + 0.078*项目 + 0.077*项目管理 + 0.070*化学 + 0.045*保障 + 0.045*社会保障 + 0.045*劳动 + 0.041*工程\n",
      "0.164*语言 + 0.160*汉语言 + 0.158*汉语 + 0.148*文学 + 0.147*语言文学 + 0.067*术学 + 0.042*美术 + 0.033*美术学 + 0.012*中文 + 0.007*戏剧\n",
      "0.039*制冷 + 0.036*林学 + 0.034*矿工 + 0.034*采矿工程 + 0.034*采矿工 + 0.034*采矿 + 0.034*染整 + 0.030*空调 + 0.023*汽修 + 0.021*家电\n",
      "0.102*历史 + 0.077*历史学 + 0.077*史学 + 0.069*测绘 + 0.031*自考 + 0.029*工程机械 + 0.025*工程 + 0.019*与会 + 0.019*计算机管理 + 0.014*导演\n",
      "0.233*商务 + 0.192*金融 + 0.181*电子商务 + 0.175*金融学 + 0.128*电子 + 0.035*动画 + 0.018*俄语 + 0.007*绘画 + 0.006*管理 + 0.005*工程\n",
      "0.154*土木工程 + 0.154*木工 + 0.154*土木 + 0.123*科学技术 + 0.079*工程 + 0.074*交通 + 0.057*运输 + 0.056*通运 + 0.056*交通运输 + 0.024*通工\n",
      "0.108*服装 + 0.089*装设 + 0.088*服装设计 + 0.085*文科 + 0.050*设计 + 0.040*会计专业 + 0.035*多媒体 + 0.034*农学 + 0.033*与 + 0.032*工程\n",
      "0.232*化学 + 0.118*统计 + 0.115*统计学 + 0.111*应用化学 + 0.109*应用 + 0.077*检测 + 0.056*计学 + 0.028*实务 + 0.017*营养 + 0.016*金融管理\n",
      "0.135*信息管理 + 0.100*计算机信息 + 0.100*机信息 + 0.094*信息 + 0.073*财会 + 0.053*计算机 + 0.053*算机 + 0.052*计算 + 0.047*管理 + 0.027*装饰\n",
      "0.289*教育 + 0.118*教育学 + 0.102*数控 + 0.093*体育 + 0.064*数控技术 + 0.050*小学 + 0.039*技术 + 0.029*光 + 0.027*英语教育 + 0.017*计算机教育\n",
      "0.593*行政 + 0.235*管理 + 0.051*园林 + 0.009*处理 + 0.007*空中 + 0.007*乘务 + 0.006*化 + 0.005*工商行 + 0.005*商行 + 0.005*工商行政\n",
      "0.229*工程 + 0.200*软件工程 + 0.185*软件 + 0.092*管理 + 0.074*物理 + 0.042*物理学 + 0.034*理学 + 0.028*工程技术 + 0.017*应用 + 0.009*光电子\n",
      "0.193*经济学 + 0.193*济学 + 0.139*经济 + 0.126*财务 + 0.125*财务管理 + 0.044*管理 + 0.017*关系 + 0.016*公共关系 + 0.013*公共 + 0.012*建筑工程\n",
      "0.298*国际 + 0.266*贸易 + 0.255*经济 + 0.118*与 + 0.023*管理 + 0.004*生物学 + 0.004*无线 + 0.003*国语 + 0.003*无线电 + 0.002*国际会计\n",
      "0.131*计算机软件 + 0.131*机软件 + 0.105*软件 + 0.074*计算机 + 0.074*算机 + 0.073*计算 + 0.066*分子 + 0.058*高分子 + 0.058*高分 + 0.043*材料\n",
      "0.145*控制 + 0.130*控制工程 + 0.078*材料 + 0.048*工程 + 0.046*过程 + 0.046*制作 + 0.045*装备 + 0.043*电工 + 0.028*中医 + 0.026*与\n",
      "0.323*营销 + 0.321*市场 + 0.320*市场营销 + 0.004*保护 + 0.003*植物 + 0.002*植物保护 + 0.002*市场经济 + 0.002*系统管理 + 0.002*统管 + 0.001*森林\n",
      "0.336*工商管理 + 0.326*工商 + 0.187*管理 + 0.142*none + 0.001*专升本 + 0.000*理会 + 0.000*会计 + 0.000*会计学 + 0.000*计学 + 0.000*理应\n",
      "0.078*开发 + 0.074*法语 + 0.034*软件开发 + 0.029*出版 + 0.029*编辑出版 + 0.029*编辑 + 0.029*传媒 + 0.029*出版学 + 0.025*系统工程 + 0.024*畜牧\n",
      "0.199*材料 + 0.146*金属 + 0.145*金属材料 + 0.073*音乐 + 0.060*工程 + 0.039*音乐学 + 0.028*无机 + 0.027*非金属材料 + 0.027*非金属 + 0.025*务工\n",
      "0.156*财政 + 0.156*财政学 + 0.138*电气 + 0.138*电气工程 + 0.093*及其 + 0.088*自动化 + 0.088*自动 + 0.068*工程 + 0.022*电子科 + 0.015*运用\n",
      "0.279*其他 + 0.161*资源 + 0.159*人力 + 0.159*人力资源 + 0.157*资源管理 + 0.064*管理 + 0.006*土地 + 0.001*水文 + 0.001*水资源 + 0.000*国土\n",
      "0.275*艺术 + 0.252*艺术设计 + 0.170*设计 + 0.148*日语 + 0.024*临床 + 0.024*类 + 0.018*计学 + 0.010*办公 + 0.007*诊断 + 0.006*办公自动化\n",
      "0.195*学 + 0.115*普高 + 0.071*政治 + 0.062*治学 + 0.062*政治学 + 0.032*行政 + 0.032*药物 + 0.029*物化 + 0.024*公共政策 + 0.019*治安\n",
      "0.171*商务英语 + 0.134*仪器 + 0.130*测控 + 0.118*商务 + 0.111*英语 + 0.078*策划 + 0.051*与 + 0.051*技术 + 0.012*+ + 0.010*电子计算\n",
      "0.093*对外 + 0.082*对外汉语 + 0.077*装潢 + 0.075*系 + 0.066*德语 + 0.057*计算机技术 + 0.051*汉语 + 0.035*公司 + 0.029*木材 + 0.026*医药\n",
      "0.135*工业 + 0.111*机电 + 0.094*一体 + 0.094*一体化 + 0.082*工程 + 0.073*生物工程 + 0.067*制药 + 0.062*生物 + 0.041*物业管理 + 0.041*物业\n"
     ]
    }
   ],
   "source": [
    "for i in range(0, 50):\n",
    "    print lda.print_topic(i)"
   ]
  },
  {
   "cell_type": "code",
   "execution_count": 112,
   "metadata": {
    "collapsed": false
   },
   "outputs": [
    {
     "ename": "KeyboardInterrupt",
     "evalue": "",
     "output_type": "error",
     "traceback": [
      "\u001b[0;31m---------------------------------------------------------------------------\u001b[0m",
      "\u001b[0;31mKeyboardInterrupt\u001b[0m                         Traceback (most recent call last)",
      "\u001b[0;32m<ipython-input-112-9198c9ff640e>\u001b[0m in \u001b[0;36m<module>\u001b[0;34m()\u001b[0m\n\u001b[0;32m----> 1\u001b[0;31m \u001b[0mnumpy_matrix\u001b[0m \u001b[0;34m=\u001b[0m \u001b[0mmatutils\u001b[0m\u001b[0;34m.\u001b[0m\u001b[0mcorpus2dense\u001b[0m\u001b[0;34m(\u001b[0m\u001b[0mcorpus\u001b[0m\u001b[0;34m,\u001b[0m \u001b[0mnum_terms\u001b[0m\u001b[0;34m=\u001b[0m\u001b[0;36m10000\u001b[0m\u001b[0;34m)\u001b[0m\u001b[0;34m\u001b[0m\u001b[0m\n\u001b[0m\u001b[1;32m      2\u001b[0m \u001b[0;31m#matutils.corpus2dense(corpus_lda, corpus_tfidf.num_terms, corpus_tfidf.num_docs)\u001b[0m\u001b[0;34m\u001b[0m\u001b[0;34m\u001b[0m\u001b[0m\n",
      "\u001b[0;32m/usr/local/lib/python2.7/site-packages/gensim-0.12.1-py2.7-macosx-10.10-x86_64.egg/gensim/matutils.pyc\u001b[0m in \u001b[0;36mcorpus2dense\u001b[0;34m(corpus, num_terms, num_docs, dtype)\u001b[0m\n\u001b[1;32m    261\u001b[0m         \u001b[0;32massert\u001b[0m \u001b[0mdocno\u001b[0m \u001b[0;34m+\u001b[0m \u001b[0;36m1\u001b[0m \u001b[0;34m==\u001b[0m \u001b[0mnum_docs\u001b[0m\u001b[0;34m\u001b[0m\u001b[0m\n\u001b[1;32m    262\u001b[0m     \u001b[0;32melse\u001b[0m\u001b[0;34m:\u001b[0m\u001b[0;34m\u001b[0m\u001b[0m\n\u001b[0;32m--> 263\u001b[0;31m         \u001b[0mresult\u001b[0m \u001b[0;34m=\u001b[0m \u001b[0mnumpy\u001b[0m\u001b[0;34m.\u001b[0m\u001b[0mcolumn_stack\u001b[0m\u001b[0;34m(\u001b[0m\u001b[0msparse2full\u001b[0m\u001b[0;34m(\u001b[0m\u001b[0mdoc\u001b[0m\u001b[0;34m,\u001b[0m \u001b[0mnum_terms\u001b[0m\u001b[0;34m)\u001b[0m \u001b[0;32mfor\u001b[0m \u001b[0mdoc\u001b[0m \u001b[0;32min\u001b[0m \u001b[0mcorpus\u001b[0m\u001b[0;34m)\u001b[0m\u001b[0;34m\u001b[0m\u001b[0m\n\u001b[0m\u001b[1;32m    264\u001b[0m     \u001b[0;32mreturn\u001b[0m \u001b[0mresult\u001b[0m\u001b[0;34m.\u001b[0m\u001b[0mastype\u001b[0m\u001b[0;34m(\u001b[0m\u001b[0mdtype\u001b[0m\u001b[0;34m)\u001b[0m\u001b[0;34m\u001b[0m\u001b[0m\n\u001b[1;32m    265\u001b[0m \u001b[0;34m\u001b[0m\u001b[0m\n",
      "\u001b[0;32m/usr/local/lib/python2.7/site-packages/numpy/lib/shape_base.pyc\u001b[0m in \u001b[0;36mcolumn_stack\u001b[0;34m(tup)\u001b[0m\n\u001b[1;32m    315\u001b[0m             \u001b[0marr\u001b[0m \u001b[0;34m=\u001b[0m \u001b[0marray\u001b[0m\u001b[0;34m(\u001b[0m\u001b[0marr\u001b[0m\u001b[0;34m,\u001b[0m \u001b[0mcopy\u001b[0m\u001b[0;34m=\u001b[0m\u001b[0mFalse\u001b[0m\u001b[0;34m,\u001b[0m \u001b[0msubok\u001b[0m\u001b[0;34m=\u001b[0m\u001b[0mTrue\u001b[0m\u001b[0;34m,\u001b[0m \u001b[0mndmin\u001b[0m\u001b[0;34m=\u001b[0m\u001b[0;36m2\u001b[0m\u001b[0;34m)\u001b[0m\u001b[0;34m.\u001b[0m\u001b[0mT\u001b[0m\u001b[0;34m\u001b[0m\u001b[0m\n\u001b[1;32m    316\u001b[0m         \u001b[0marrays\u001b[0m\u001b[0;34m.\u001b[0m\u001b[0mappend\u001b[0m\u001b[0;34m(\u001b[0m\u001b[0marr\u001b[0m\u001b[0;34m)\u001b[0m\u001b[0;34m\u001b[0m\u001b[0m\n\u001b[0;32m--> 317\u001b[0;31m     \u001b[0;32mreturn\u001b[0m \u001b[0m_nx\u001b[0m\u001b[0;34m.\u001b[0m\u001b[0mconcatenate\u001b[0m\u001b[0;34m(\u001b[0m\u001b[0marrays\u001b[0m\u001b[0;34m,\u001b[0m \u001b[0;36m1\u001b[0m\u001b[0;34m)\u001b[0m\u001b[0;34m\u001b[0m\u001b[0m\n\u001b[0m\u001b[1;32m    318\u001b[0m \u001b[0;34m\u001b[0m\u001b[0m\n\u001b[1;32m    319\u001b[0m \u001b[0;32mdef\u001b[0m \u001b[0mdstack\u001b[0m\u001b[0;34m(\u001b[0m\u001b[0mtup\u001b[0m\u001b[0;34m)\u001b[0m\u001b[0;34m:\u001b[0m\u001b[0;34m\u001b[0m\u001b[0m\n",
      "\u001b[0;31mKeyboardInterrupt\u001b[0m: "
     ]
    }
   ],
   "source": [
    "numpy_matrix = matutils.corpus2dense(corpus, num_terms=10000)\n",
    "#matutils.corpus2dense(corpus_lda, corpus_tfidf.num_terms, corpus_tfidf.num_docs)"
   ]
  },
  {
   "cell_type": "code",
   "execution_count": null,
   "metadata": {
    "collapsed": true
   },
   "outputs": [],
   "source": []
  }
 ],
 "metadata": {
  "kernelspec": {
   "display_name": "Python 2",
   "language": "python",
   "name": "python2"
  },
  "language_info": {
   "codemirror_mode": {
    "name": "ipython",
    "version": 2
   },
   "file_extension": ".py",
   "mimetype": "text/x-python",
   "name": "python",
   "nbconvert_exporter": "python",
   "pygments_lexer": "ipython2",
   "version": "2.7.9"
  }
 },
 "nbformat": 4,
 "nbformat_minor": 0
}
